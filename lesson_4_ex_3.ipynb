{
  "nbformat": 4,
  "nbformat_minor": 0,
  "metadata": {
    "colab": {
      "name": "lesson_4_ex_3.ipynb",
      "provenance": [],
      "collapsed_sections": []
    },
    "kernelspec": {
      "name": "python3",
      "display_name": "Python 3"
    }
  },
  "cells": [
    {
      "cell_type": "markdown",
      "metadata": {
        "id": "DevL67XpX7lJ"
      },
      "source": [
        "**Задание 3**"
      ]
    },
    {
      "cell_type": "markdown",
      "metadata": {
        "id": "DmvPYWfXX-ip"
      },
      "source": [
        "С помощью функции linspace библиотеки Numpy создайте массив x из 51 числа от -3 до 3 включительно.\r\n",
        "Создайте массивы y1, y2, y3, y4 по следующим формулам:\r\n",
        "y1 = x**2\r\n",
        "y2 = 2 * x + 0.5\r\n",
        "y3 = -3 * x - 1.5\r\n",
        "y4 = sin(x)\r\n",
        "Используя функцию subplots модуля matplotlib.pyplot, создайте объект matplotlib.figure.Figure с названием fig и массив объектов Axes под названием ax,причем так, чтобы у вас было 4 отдельных графика в сетке, состоящей из двух строк и двух столбцов. В каждом графике массив x используется для координат по горизонтали.В левом верхнем графике для координат по вертикали используйте y1,в правом верхнем - y2, в левом нижнем - y3, в правом нижнем - y4.Дайте название графикам: 'График y1', 'График y2' и т.д.\r\n",
        "Для графика в левом верхнем углу установите границы по оси x от -5 до 5.\r\n",
        "Установите размеры фигуры 8 дюймов по горизонтали и 6 дюймов по вертикали.\r\n",
        "Вертикальные и горизонтальные зазоры между графиками должны составлять 0.3.\r\n"
      ]
    },
    {
      "cell_type": "code",
      "metadata": {
        "colab": {
          "base_uri": "https://localhost:8080/"
        },
        "id": "GISvRLh1YEBK",
        "outputId": "0672994b-f229-4e0d-df21-05eea9fd503f"
      },
      "source": [
        "import numpy as np\r\n",
        "import matplotlib.pyplot as plt\r\n",
        "x = np.linspace(-3, 3, 51)\r\n",
        "x"
      ],
      "execution_count": 1,
      "outputs": [
        {
          "output_type": "execute_result",
          "data": {
            "text/plain": [
              "array([-3.  , -2.88, -2.76, -2.64, -2.52, -2.4 , -2.28, -2.16, -2.04,\n",
              "       -1.92, -1.8 , -1.68, -1.56, -1.44, -1.32, -1.2 , -1.08, -0.96,\n",
              "       -0.84, -0.72, -0.6 , -0.48, -0.36, -0.24, -0.12,  0.  ,  0.12,\n",
              "        0.24,  0.36,  0.48,  0.6 ,  0.72,  0.84,  0.96,  1.08,  1.2 ,\n",
              "        1.32,  1.44,  1.56,  1.68,  1.8 ,  1.92,  2.04,  2.16,  2.28,\n",
              "        2.4 ,  2.52,  2.64,  2.76,  2.88,  3.  ])"
            ]
          },
          "metadata": {
            "tags": []
          },
          "execution_count": 1
        }
      ]
    },
    {
      "cell_type": "code",
      "metadata": {
        "colab": {
          "base_uri": "https://localhost:8080/"
        },
        "id": "eQO_Z87bYwtZ",
        "outputId": "50249708-69a5-49e3-f2e3-4e1af8b0786f"
      },
      "source": [
        "y1 = x**2\r\n",
        "y1"
      ],
      "execution_count": 2,
      "outputs": [
        {
          "output_type": "execute_result",
          "data": {
            "text/plain": [
              "array([9.    , 8.2944, 7.6176, 6.9696, 6.3504, 5.76  , 5.1984, 4.6656,\n",
              "       4.1616, 3.6864, 3.24  , 2.8224, 2.4336, 2.0736, 1.7424, 1.44  ,\n",
              "       1.1664, 0.9216, 0.7056, 0.5184, 0.36  , 0.2304, 0.1296, 0.0576,\n",
              "       0.0144, 0.    , 0.0144, 0.0576, 0.1296, 0.2304, 0.36  , 0.5184,\n",
              "       0.7056, 0.9216, 1.1664, 1.44  , 1.7424, 2.0736, 2.4336, 2.8224,\n",
              "       3.24  , 3.6864, 4.1616, 4.6656, 5.1984, 5.76  , 6.3504, 6.9696,\n",
              "       7.6176, 8.2944, 9.    ])"
            ]
          },
          "metadata": {
            "tags": []
          },
          "execution_count": 2
        }
      ]
    },
    {
      "cell_type": "code",
      "metadata": {
        "colab": {
          "base_uri": "https://localhost:8080/"
        },
        "id": "hzedii7fY2Ai",
        "outputId": "98c1f697-79b5-41fd-dabd-1dbaf8af7b64"
      },
      "source": [
        "y2 = 2 * x + 0.5\r\n",
        "y2"
      ],
      "execution_count": 4,
      "outputs": [
        {
          "output_type": "execute_result",
          "data": {
            "text/plain": [
              "array([-5.5 , -5.26, -5.02, -4.78, -4.54, -4.3 , -4.06, -3.82, -3.58,\n",
              "       -3.34, -3.1 , -2.86, -2.62, -2.38, -2.14, -1.9 , -1.66, -1.42,\n",
              "       -1.18, -0.94, -0.7 , -0.46, -0.22,  0.02,  0.26,  0.5 ,  0.74,\n",
              "        0.98,  1.22,  1.46,  1.7 ,  1.94,  2.18,  2.42,  2.66,  2.9 ,\n",
              "        3.14,  3.38,  3.62,  3.86,  4.1 ,  4.34,  4.58,  4.82,  5.06,\n",
              "        5.3 ,  5.54,  5.78,  6.02,  6.26,  6.5 ])"
            ]
          },
          "metadata": {
            "tags": []
          },
          "execution_count": 4
        }
      ]
    },
    {
      "cell_type": "code",
      "metadata": {
        "colab": {
          "base_uri": "https://localhost:8080/"
        },
        "id": "OJtCSsx9ZB27",
        "outputId": "cc8cafb4-4b62-48da-cbc2-42aa0bed5102"
      },
      "source": [
        "y3 = -3 * x - 1.5\r\n",
        "y3"
      ],
      "execution_count": 6,
      "outputs": [
        {
          "output_type": "execute_result",
          "data": {
            "text/plain": [
              "array([  7.5 ,   7.14,   6.78,   6.42,   6.06,   5.7 ,   5.34,   4.98,\n",
              "         4.62,   4.26,   3.9 ,   3.54,   3.18,   2.82,   2.46,   2.1 ,\n",
              "         1.74,   1.38,   1.02,   0.66,   0.3 ,  -0.06,  -0.42,  -0.78,\n",
              "        -1.14,  -1.5 ,  -1.86,  -2.22,  -2.58,  -2.94,  -3.3 ,  -3.66,\n",
              "        -4.02,  -4.38,  -4.74,  -5.1 ,  -5.46,  -5.82,  -6.18,  -6.54,\n",
              "        -6.9 ,  -7.26,  -7.62,  -7.98,  -8.34,  -8.7 ,  -9.06,  -9.42,\n",
              "        -9.78, -10.14, -10.5 ])"
            ]
          },
          "metadata": {
            "tags": []
          },
          "execution_count": 6
        }
      ]
    },
    {
      "cell_type": "code",
      "metadata": {
        "colab": {
          "base_uri": "https://localhost:8080/"
        },
        "id": "JMBEfp7OZjzU",
        "outputId": "d2729357-a216-468e-de02-91c233829622"
      },
      "source": [
        "y4 = np.sin(x)\r\n",
        "y4"
      ],
      "execution_count": 9,
      "outputs": [
        {
          "output_type": "execute_result",
          "data": {
            "text/plain": [
              "array([-0.14112001, -0.25861935, -0.37239904, -0.48082261, -0.58233065,\n",
              "       -0.67546318, -0.75888071, -0.83138346, -0.89192865, -0.93964547,\n",
              "       -0.97384763, -0.9940432 , -0.99994172, -0.99145835, -0.9687151 ,\n",
              "       -0.93203909, -0.88195781, -0.81919157, -0.74464312, -0.65938467,\n",
              "       -0.56464247, -0.46177918, -0.35227423, -0.23770263, -0.11971221,\n",
              "        0.        ,  0.11971221,  0.23770263,  0.35227423,  0.46177918,\n",
              "        0.56464247,  0.65938467,  0.74464312,  0.81919157,  0.88195781,\n",
              "        0.93203909,  0.9687151 ,  0.99145835,  0.99994172,  0.9940432 ,\n",
              "        0.97384763,  0.93964547,  0.89192865,  0.83138346,  0.75888071,\n",
              "        0.67546318,  0.58233065,  0.48082261,  0.37239904,  0.25861935,\n",
              "        0.14112001])"
            ]
          },
          "metadata": {
            "tags": []
          },
          "execution_count": 9
        }
      ]
    },
    {
      "cell_type": "code",
      "metadata": {
        "colab": {
          "base_uri": "https://localhost:8080/",
          "height": 390
        },
        "id": "TCTLQYyKM_Ot",
        "outputId": "238f02f7-b7c3-49c7-e5d3-20aa37d423ec"
      },
      "source": [
        "fig, ax = plt.subplots(nrows=2, ncols=2)\r\n",
        "ax1, ax2, ax3, ax4 = ax.flatten()\r\n",
        "\r\n",
        "ax1.plot(x, y1)\r\n",
        "ax1.set_title('График y1')\r\n",
        "ax1.set_xlim([-5, 5])\r\n",
        "\r\n",
        "ax2.plot(x, y2)\r\n",
        "ax2.set_title('График y2')\r\n",
        "\r\n",
        "ax3.plot(x, y3)\r\n",
        "ax3.set_title('График y3')\r\n",
        "\r\n",
        "ax4.plot(x, y4)\r\n",
        "ax4.set_title('График y4')\r\n",
        "\r\n",
        "fig.set_size_inches(8, 6)\r\n",
        "plt.subplots_adjust(wspace=0.3, hspace=0.3)"
      ],
      "execution_count": 10,
      "outputs": [
        {
          "output_type": "display_data",
          "data": {
            "image/png": "[encoded data removed]",
            "text/plain": [
              "<Figure size 576x432 with 4 Axes>"
            ]
          },
          "metadata": {
            "tags": [],
            "needs_background": "light"
          }
        }
      ]
    }
  ]
}